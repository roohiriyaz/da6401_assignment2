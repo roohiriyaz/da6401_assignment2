{
 "cells": [
  {
   "cell_type": "code",
   "execution_count": 1,
   "metadata": {
    "execution": {
     "iopub.execute_input": "2025-04-19T15:52:44.578293Z",
     "iopub.status.busy": "2025-04-19T15:52:44.578045Z",
     "iopub.status.idle": "2025-04-19T15:53:00.452005Z",
     "shell.execute_reply": "2025-04-19T15:53:00.451242Z",
     "shell.execute_reply.started": "2025-04-19T15:52:44.578267Z"
    },
    "trusted": true
   },
   "outputs": [],
   "source": [
    "import torch\n",
    "import torch.nn as nn\n",
    "import torch.optim as optim\n",
    "from torchvision import datasets, transforms, models\n",
    "from torch.utils.data import DataLoader, Subset\n",
    "from tqdm import tqdm\n",
    "from sklearn.model_selection import StratifiedShuffleSplit\n",
    "import numpy as np\n",
    "import time\n",
    "import copy\n",
    "import wandb"
   ]
  },
  {
   "cell_type": "code",
   "execution_count": null,
   "metadata": {
    "execution": {
     "iopub.execute_input": "2025-04-19T15:53:39.472975Z",
     "iopub.status.busy": "2025-04-19T15:53:39.472292Z",
     "iopub.status.idle": "2025-04-19T15:53:50.137220Z",
     "shell.execute_reply": "2025-04-19T15:53:50.136435Z",
     "shell.execute_reply.started": "2025-04-19T15:53:39.472949Z"
    },
    "trusted": true
   },
   "outputs": [
    {
     "name": "stderr",
     "output_type": "stream",
     "text": [
      "\u001b[34m\u001b[1mwandb\u001b[0m: \u001b[33mWARNING\u001b[0m If you're specifying your api key in code, ensure this code is not shared publicly.\n",
      "\u001b[34m\u001b[1mwandb\u001b[0m: \u001b[33mWARNING\u001b[0m Consider setting the WANDB_API_KEY environment variable, or running `wandb login` from the command line.\n",
      "\u001b[34m\u001b[1mwandb\u001b[0m: Appending key for api.wandb.ai to your netrc file: /root/.netrc\n",
      "\u001b[34m\u001b[1mwandb\u001b[0m: W&B API key is configured. Use \u001b[1m`wandb login --relogin`\u001b[0m to force relogin\n"
     ]
    },
    {
     "data": {
      "text/plain": [
       "True"
      ]
     },
     "execution_count": 2,
     "metadata": {},
     "output_type": "execute_result"
    }
   ],
   "source": [
    "wandb.login()"
   ]
  },
  {
   "cell_type": "code",
   "execution_count": 11,
   "metadata": {
    "execution": {
     "iopub.execute_input": "2025-04-19T15:59:58.526957Z",
     "iopub.status.busy": "2025-04-19T15:59:58.526346Z",
     "iopub.status.idle": "2025-04-19T15:59:58.542432Z",
     "shell.execute_reply": "2025-04-19T15:59:58.541749Z",
     "shell.execute_reply.started": "2025-04-19T15:59:58.526931Z"
    },
    "trusted": true
   },
   "outputs": [],
   "source": [
    "wandb.init(project=\"resnet50_finetune\", config={\n",
    "    \"model\": \"resnet50\",\n",
    "    \"batch_size\": 64,\n",
    "    \"learning_rate\": 0.001,\n",
    "    \"num_epochs\": 20,\n",
    "    \"strategy\": \"unfreeze_layer4_fc\",\n",
    "    \"optimizer\": \"Adam\",\n",
    "    \"image_size\": 224\n",
    "})\n",
    "config = wandb.config"
   ]
  },
  {
   "cell_type": "code",
   "execution_count": 12,
   "metadata": {
    "execution": {
     "iopub.execute_input": "2025-04-19T16:00:06.833226Z",
     "iopub.status.busy": "2025-04-19T16:00:06.832927Z",
     "iopub.status.idle": "2025-04-19T16:00:06.837947Z",
     "shell.execute_reply": "2025-04-19T16:00:06.837446Z",
     "shell.execute_reply.started": "2025-04-19T16:00:06.833204Z"
    },
    "trusted": true
   },
   "outputs": [],
   "source": [
    "device = torch.device(\"cuda\" if torch.cuda.is_available() else \"cpu\")"
   ]
  },
  {
   "cell_type": "code",
   "execution_count": 13,
   "metadata": {
    "execution": {
     "iopub.execute_input": "2025-04-19T16:00:08.817375Z",
     "iopub.status.busy": "2025-04-19T16:00:08.817092Z",
     "iopub.status.idle": "2025-04-19T16:00:08.822760Z",
     "shell.execute_reply": "2025-04-19T16:00:08.822216Z",
     "shell.execute_reply.started": "2025-04-19T16:00:08.817355Z"
    },
    "trusted": true
   },
   "outputs": [],
   "source": [
    "transform = transforms.Compose([\n",
    "    transforms.Resize((224, 224)),  # ResNet expects 224x224 input\n",
    "    transforms.RandomHorizontalFlip(),\n",
    "    transforms.ToTensor(),\n",
    "    transforms.Normalize([0.485, 0.456, 0.406],\n",
    "                         [0.229, 0.224, 0.225]),\n",
    "])"
   ]
  },
  {
   "cell_type": "code",
   "execution_count": 14,
   "metadata": {
    "execution": {
     "iopub.execute_input": "2025-04-19T16:00:53.350528Z",
     "iopub.status.busy": "2025-04-19T16:00:53.350217Z",
     "iopub.status.idle": "2025-04-19T16:00:58.619282Z",
     "shell.execute_reply": "2025-04-19T16:00:58.618388Z",
     "shell.execute_reply.started": "2025-04-19T16:00:53.350506Z"
    },
    "trusted": true
   },
   "outputs": [],
   "source": [
    "data_dir = '/kaggle/input/inaturalist1/inaturalist_12K/train'\n",
    "# Load full dataset\n",
    "full_dataset = datasets.ImageFolder(root=data_dir, transform=transform)\n",
    "\n",
    "# Get class labels for stratified split\n",
    "targets = np.array(full_dataset.targets)\n",
    "\n",
    "# Stratified Split\n",
    "sss = StratifiedShuffleSplit(n_splits=1, test_size=0.2, random_state=42)\n",
    "train_idx, val_idx = next(sss.split(np.zeros(len(targets)), targets))\n",
    "\n",
    "# Create train and validation datasets using stratified split\n",
    "train_dataset = Subset(full_dataset, train_idx)\n",
    "val_dataset = Subset(full_dataset, val_idx)\n",
    "\n",
    "# DataLoaders\n",
    "train_loader = DataLoader(train_dataset, batch_size=config.batch_size, shuffle=True, num_workers=4)\n",
    "val_loader = DataLoader(val_dataset, batch_size=config.batch_size, shuffle=False, num_workers=4)\n"
   ]
  },
  {
   "cell_type": "code",
   "execution_count": 16,
   "metadata": {
    "execution": {
     "iopub.execute_input": "2025-04-19T16:03:07.753455Z",
     "iopub.status.busy": "2025-04-19T16:03:07.752687Z",
     "iopub.status.idle": "2025-04-19T16:03:08.184808Z",
     "shell.execute_reply": "2025-04-19T16:03:08.184203Z",
     "shell.execute_reply.started": "2025-04-19T16:03:07.753430Z"
    },
    "trusted": true
   },
   "outputs": [],
   "source": [
    "model = models.resnet50(pretrained=True)\n",
    "\n",
    "# Freeze all layers first\n",
    "for param in model.parameters():\n",
    "    param.requires_grad = False\n",
    "# Unfreeze layer4 and fc\n",
    "for param in model.layer4.parameters():\n",
    "    param.requires_grad = True\n",
    "for param in model.fc.parameters():\n",
    "    param.requires_grad = True\n",
    "model = model.to(device)"
   ]
  },
  {
   "cell_type": "code",
   "execution_count": 17,
   "metadata": {
    "execution": {
     "iopub.execute_input": "2025-04-19T16:03:16.596630Z",
     "iopub.status.busy": "2025-04-19T16:03:16.596061Z",
     "iopub.status.idle": "2025-04-19T16:03:16.601671Z",
     "shell.execute_reply": "2025-04-19T16:03:16.601115Z",
     "shell.execute_reply.started": "2025-04-19T16:03:16.596606Z"
    },
    "trusted": true
   },
   "outputs": [],
   "source": [
    "criterion = nn.CrossEntropyLoss()\n",
    "optimizer = optim.Adam(filter(lambda p: p.requires_grad, model.parameters()), lr=config.learning_rate)"
   ]
  },
  {
   "cell_type": "code",
   "execution_count": 18,
   "metadata": {
    "execution": {
     "iopub.execute_input": "2025-04-19T16:03:19.783170Z",
     "iopub.status.busy": "2025-04-19T16:03:19.782907Z",
     "iopub.status.idle": "2025-04-19T16:03:19.792143Z",
     "shell.execute_reply": "2025-04-19T16:03:19.791441Z",
     "shell.execute_reply.started": "2025-04-19T16:03:19.783152Z"
    },
    "trusted": true
   },
   "outputs": [],
   "source": [
    "def train_model(model, train_loader, val_loader, criterion, optimizer, num_epochs):\n",
    "    for epoch in range(num_epochs):\n",
    "        print(f\"\\nEpoch {epoch+1}/{num_epochs}\")\n",
    "        print(\"-\" * 20)\n",
    "\n",
    "        model.train()\n",
    "        train_loss, train_correct, total_train = 0.0, 0, 0\n",
    "\n",
    "        for inputs, labels in train_loader:\n",
    "            inputs, labels = inputs.to(device), labels.to(device)\n",
    "\n",
    "            optimizer.zero_grad()\n",
    "            outputs = model(inputs)\n",
    "            loss = criterion(outputs, labels)\n",
    "            loss.backward()\n",
    "            optimizer.step()\n",
    "\n",
    "            preds = outputs.argmax(1)\n",
    "            train_loss += loss.item() * inputs.size(0)\n",
    "            train_correct += (preds == labels).sum().item()\n",
    "            total_train += labels.size(0)\n",
    "\n",
    "        epoch_train_loss = train_loss / total_train\n",
    "        epoch_train_acc = train_correct / total_train\n",
    "\n",
    "        model.eval()\n",
    "        val_loss, val_correct, total_val = 0.0, 0, 0\n",
    "\n",
    "        with torch.no_grad():\n",
    "            for inputs, labels in val_loader:\n",
    "                inputs, labels = inputs.to(device), labels.to(device)\n",
    "                outputs = model(inputs)\n",
    "                loss = criterion(outputs, labels)\n",
    "\n",
    "                preds = outputs.argmax(1)\n",
    "                val_loss += loss.item() * inputs.size(0)\n",
    "                val_correct += (preds == labels).sum().item()\n",
    "                total_val += labels.size(0)\n",
    "\n",
    "        epoch_val_loss = val_loss / total_val\n",
    "        epoch_val_acc = val_correct / total_val\n",
    "\n",
    "        print(f\"Train Loss: {epoch_train_loss:.4f} Acc: {epoch_train_acc:.4f}\")\n",
    "        print(f\"Val   Loss: {epoch_val_loss:.4f} Acc: {epoch_val_acc:.4f}\")\n",
    "\n",
    "        wandb.log({\n",
    "            \"epoch\": epoch + 1,\n",
    "            \"train_loss\": epoch_train_loss,\n",
    "            \"train_acc\": epoch_train_acc,\n",
    "            \"val_loss\": epoch_val_loss,\n",
    "            \"val_acc\": epoch_val_acc\n",
    "        })"
   ]
  },
  {
   "cell_type": "code",
   "execution_count": 19,
   "metadata": {
    "execution": {
     "iopub.execute_input": "2025-04-19T16:04:58.796783Z",
     "iopub.status.busy": "2025-04-19T16:04:58.796042Z",
     "iopub.status.idle": "2025-04-19T16:14:20.601609Z",
     "shell.execute_reply": "2025-04-19T16:14:20.600923Z",
     "shell.execute_reply.started": "2025-04-19T16:04:58.796759Z"
    },
    "trusted": true
   },
   "outputs": [
    {
     "name": "stdout",
     "output_type": "stream",
     "text": [
      "\n",
      "Epoch 1/10\n",
      "--------------------\n",
      "Train Loss: 1.2520 Acc: 0.6266\n",
      "Val   Loss: 0.9251 Acc: 0.6945\n",
      "\n",
      "Epoch 2/10\n",
      "--------------------\n",
      "Train Loss: 0.6900 Acc: 0.7735\n",
      "Val   Loss: 0.8176 Acc: 0.7400\n",
      "\n",
      "Epoch 3/10\n",
      "--------------------\n",
      "Train Loss: 0.4795 Acc: 0.8457\n",
      "Val   Loss: 1.0083 Acc: 0.6975\n",
      "\n",
      "Epoch 4/10\n",
      "--------------------\n",
      "Train Loss: 0.3640 Acc: 0.8759\n",
      "Val   Loss: 0.8925 Acc: 0.7380\n",
      "\n",
      "Epoch 5/10\n",
      "--------------------\n",
      "Train Loss: 0.2625 Acc: 0.9109\n",
      "Val   Loss: 1.1657 Acc: 0.7145\n",
      "\n",
      "Epoch 6/10\n",
      "--------------------\n",
      "Train Loss: 0.2037 Acc: 0.9344\n",
      "Val   Loss: 0.8468 Acc: 0.7600\n",
      "\n",
      "Epoch 7/10\n",
      "--------------------\n",
      "Train Loss: 0.1569 Acc: 0.9492\n",
      "Val   Loss: 1.0484 Acc: 0.7330\n",
      "\n",
      "Epoch 8/10\n",
      "--------------------\n",
      "Train Loss: 0.1353 Acc: 0.9557\n",
      "Val   Loss: 0.9612 Acc: 0.7515\n",
      "\n",
      "Epoch 9/10\n",
      "--------------------\n",
      "Train Loss: 0.1115 Acc: 0.9636\n",
      "Val   Loss: 1.0804 Acc: 0.7470\n",
      "\n",
      "Epoch 10/10\n",
      "--------------------\n",
      "Train Loss: 0.0919 Acc: 0.9712\n",
      "Val   Loss: 1.1177 Acc: 0.7535\n"
     ]
    },
    {
     "data": {
      "text/html": [],
      "text/plain": [
       "<IPython.core.display.HTML object>"
      ]
     },
     "metadata": {},
     "output_type": "display_data"
    },
    {
     "data": {
      "text/html": [
       "<br>    <style><br>        .wandb-row {<br>            display: flex;<br>            flex-direction: row;<br>            flex-wrap: wrap;<br>            justify-content: flex-start;<br>            width: 100%;<br>        }<br>        .wandb-col {<br>            display: flex;<br>            flex-direction: column;<br>            flex-basis: 100%;<br>            flex: 1;<br>            padding: 10px;<br>        }<br>    </style><br><div class=\"wandb-row\"><div class=\"wandb-col\"><h3>Run history:</h3><br/><table class=\"wandb\"><tr><td>epoch</td><td>▁▂▁▂▃▃▄▅▆▆▇█</td></tr><tr><td>train_acc</td><td>▁▃▄▆▇▇▇█████</td></tr><tr><td>train_loss</td><td>█▆▅▃▂▂▂▁▁▁▁▁</td></tr><tr><td>val_acc</td><td>▁▃▇█▇█▇█▇███</td></tr><tr><td>val_loss</td><td>█▇▂▁▂▂▃▁▃▂▃▃</td></tr></table><br/></div><div class=\"wandb-col\"><h3>Run summary:</h3><br/><table class=\"wandb\"><tr><td>epoch</td><td>10</td></tr><tr><td>train_acc</td><td>0.97125</td></tr><tr><td>train_loss</td><td>0.09195</td></tr><tr><td>val_acc</td><td>0.7535</td></tr><tr><td>val_loss</td><td>1.11774</td></tr></table><br/></div></div>"
      ],
      "text/plain": [
       "<IPython.core.display.HTML object>"
      ]
     },
     "metadata": {},
     "output_type": "display_data"
    },
    {
     "data": {
      "text/html": [
       " View run <strong style=\"color:#cdcd00\">denim-grass-4</strong> at: <a href='https://wandb.ai/roohiparveen/resnet50_finetune/runs/zf3j1otr' target=\"_blank\">https://wandb.ai/roohiparveen/resnet50_finetune/runs/zf3j1otr</a><br> View project at: <a href='https://wandb.ai/roohiparveen/resnet50_finetune' target=\"_blank\">https://wandb.ai/roohiparveen/resnet50_finetune</a><br>Synced 5 W&B file(s), 0 media file(s), 0 artifact file(s) and 0 other file(s)"
      ],
      "text/plain": [
       "<IPython.core.display.HTML object>"
      ]
     },
     "metadata": {},
     "output_type": "display_data"
    },
    {
     "data": {
      "text/html": [
       "Find logs at: <code>./wandb/run-20250419_155353-zf3j1otr/logs</code>"
      ],
      "text/plain": [
       "<IPython.core.display.HTML object>"
      ]
     },
     "metadata": {},
     "output_type": "display_data"
    }
   ],
   "source": [
    "train_model(model, train_loader, val_loader, criterion, optimizer, config.num_epochs)\n",
    "wandb.finish()"
   ]
  },
  {
   "cell_type": "code",
   "execution_count": 20,
   "metadata": {
    "execution": {
     "iopub.execute_input": "2025-04-19T16:21:11.161886Z",
     "iopub.status.busy": "2025-04-19T16:21:11.161543Z",
     "iopub.status.idle": "2025-04-19T16:21:11.923955Z",
     "shell.execute_reply": "2025-04-19T16:21:11.923439Z",
     "shell.execute_reply.started": "2025-04-19T16:21:11.161861Z"
    },
    "trusted": true
   },
   "outputs": [],
   "source": [
    "test_transform = transforms.Compose([\n",
    "    transforms.Resize((224, 224)),\n",
    "    transforms.ToTensor(),\n",
    "    transforms.Normalize(mean=[0.485, 0.456, 0.406],\n",
    "                         std=[0.229, 0.224, 0.225])\n",
    "])\n",
    "\n",
    "# Load test data\n",
    "test_dataset = datasets.ImageFolder(root='/kaggle/input/inaturalist1/inaturalist_12K/val', transform=test_transform)\n",
    "test_loader = DataLoader(test_dataset, batch_size=64, shuffle=False, num_workers=2)"
   ]
  },
  {
   "cell_type": "code",
   "execution_count": 21,
   "metadata": {
    "execution": {
     "iopub.execute_input": "2025-04-19T16:22:04.354655Z",
     "iopub.status.busy": "2025-04-19T16:22:04.353967Z",
     "iopub.status.idle": "2025-04-19T16:22:27.496175Z",
     "shell.execute_reply": "2025-04-19T16:22:27.495463Z",
     "shell.execute_reply.started": "2025-04-19T16:22:04.354633Z"
    },
    "trusted": true
   },
   "outputs": [
    {
     "name": "stdout",
     "output_type": "stream",
     "text": [
      "Test Accuracy: 75.25%\n"
     ]
    }
   ],
   "source": [
    "device = torch.device(\"cuda\" if torch.cuda.is_available() else \"cpu\")\n",
    "model.to(device)\n",
    "model.eval()  # Set model to eval mode\n",
    "\n",
    "correct = 0\n",
    "total = 0\n",
    "\n",
    "with torch.no_grad():\n",
    "    for images, labels in test_loader:\n",
    "        images = images.to(device)\n",
    "        labels = labels.to(device)\n",
    "        \n",
    "        outputs = model(images)\n",
    "        _, predicted = torch.max(outputs.data, 1)\n",
    "        \n",
    "        total += labels.size(0)\n",
    "        correct += (predicted == labels).sum().item()\n",
    "\n",
    "test_accuracy = 100 * correct / total\n",
    "print(f\"Test Accuracy: {test_accuracy:.2f}%\")"
   ]
  },
  {
   "cell_type": "code",
   "execution_count": null,
   "metadata": {
    "trusted": true
   },
   "outputs": [],
   "source": []
  }
 ],
 "metadata": {
  "kaggle": {
   "accelerator": "nvidiaTeslaT4",
   "dataSources": [
    {
     "datasetId": 7190578,
     "sourceId": 11473481,
     "sourceType": "datasetVersion"
    }
   ],
   "dockerImageVersionId": 31011,
   "isGpuEnabled": true,
   "isInternetEnabled": true,
   "language": "python",
   "sourceType": "notebook"
  },
  "kernelspec": {
   "display_name": "Python 3",
   "language": "python",
   "name": "python3"
  },
  "language_info": {
   "codemirror_mode": {
    "name": "ipython",
    "version": 3
   },
   "file_extension": ".py",
   "mimetype": "text/x-python",
   "name": "python",
   "nbconvert_exporter": "python",
   "pygments_lexer": "ipython3",
   "version": "3.11.11"
  }
 },
 "nbformat": 4,
 "nbformat_minor": 4
}
